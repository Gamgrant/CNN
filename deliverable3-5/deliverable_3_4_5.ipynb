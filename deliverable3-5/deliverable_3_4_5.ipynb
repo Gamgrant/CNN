{
  "cells": [
    {
      "cell_type": "code",
      "execution_count": 3,
      "metadata": {
        "id": "BaAFGe8iKg5a"
      },
      "outputs": [],
      "source": [
        "!pip install torchsummaryX --quiet\n",
        "from torchsummaryX import summary\n"
      ]
    },
    {
      "cell_type": "code",
      "execution_count": 1,
      "metadata": {
        "colab": {
          "base_uri": "https://localhost:8080/"
        },
        "id": "1lgBeKIAf69c",
        "outputId": "7719e63d-7b6e-4b3e-f0be-44deea85a25b"
      },
      "outputs": [
        {
          "output_type": "stream",
          "name": "stdout",
          "text": [
            "torch.Size([64, 10])\n",
            "Expected output size:torch.Size([64, 10])\n"
          ]
        }
      ],
      "source": [
        "import torch\n",
        "import torch.nn as nn\n",
        "\n",
        "\n",
        "class ResidualBlock(nn.Module):\n",
        "    def __init__(self, in_channels, out_channels, kernel_size, stride):\n",
        "        super().__init__()\n",
        "        \"\"\"\n",
        "        My custom ResidualBlock\n",
        "\n",
        "        [input]\n",
        "        * in_channels  : input channel number\n",
        "        * out_channels : output channel number\n",
        "        * kernel_size  : kernel size\n",
        "        * stride       : stride size\n",
        "\n",
        "        [hint]\n",
        "        * See the instruction PDF for details\n",
        "        * Set the bias argument to False\n",
        "        \"\"\"\n",
        "\n",
        "        ## Define all the layers\n",
        "        # ----- TODO -----\n",
        "\n",
        "        self.stride = stride\n",
        "        self.in_channels = in_channels\n",
        "        self.out_channels = out_channels\n",
        "        # raise NotImplementedError\n",
        "\n",
        "        # if the main longer path is choosen\n",
        "        self.convolut1 = nn.Conv2d(in_channels, out_channels, kernel_size, stride, padding=1, bias=True)\n",
        "        self.batchNorm1 = nn.BatchNorm2d(out_channels)\n",
        "        self.relu = nn.ReLU(inplace=True)\n",
        "        self.convolut2 = nn.Conv2d(out_channels, out_channels, kernel_size, stride=1, padding=1, bias=True)\n",
        "        self.batchNorm2 = nn.BatchNorm2d(out_channels)\n",
        "\n",
        "        # if the shorter path is chosen\n",
        "        self.shortConv = nn.Conv2d(in_channels, out_channels, 1, stride=stride, bias=True)\n",
        "        self.shortBatchNorm =nn.BatchNorm2d(out_channels)\n",
        "\n",
        "    def forward(self, x):\n",
        "\n",
        "        # ----- TODO -----\n",
        "        # raise NotImplementedError\n",
        "        short =self.shortConv(x)\n",
        "        short_con = self.shortBatchNorm(short)\n",
        "\n",
        "        main_con = self.convolut1(x)\n",
        "        main_con = self.batchNorm1(main_con)\n",
        "        main_con= self.relu(main_con)\n",
        "        main_con = self.convolut2(main_con)\n",
        "        main_con = self.batchNorm2(main_con)\n",
        "\n",
        "        # combine main con adn short con\n",
        "        combined =  main_con + short_con\n",
        "        output = self.relu(combined)\n",
        "        return output\n",
        "\n",
        "\n",
        "class MyResnet(nn.Module):\n",
        "    def __init__(self, in_channels=3, num_classes=10):\n",
        "        super().__init__()\n",
        "\n",
        "        \"\"\"\n",
        "        My custom ResNet.\n",
        "\n",
        "        [input]\n",
        "        * in_channels  : input channel number\n",
        "        * num_classes  : number of classes\n",
        "\n",
        "        [hint]\n",
        "        * See the instruction PDF for details\n",
        "        * Set the bias argument to False\n",
        "        \"\"\"\n",
        "\n",
        "        ## Define all the layers\n",
        "        # ----- TODO -----\n",
        "        # raise NotImplementedError\n",
        "        self.block = nn.Sequential(\n",
        "            nn.Conv2d(in_channels,out_channels=64,kernel_size=3, stride=1, padding=1, bias=True),\n",
        "            nn.BatchNorm2d(64),\n",
        "            nn.ReLU(inplace=True)\n",
        "        )\n",
        "        # res blocks includes main and shortcut paths\n",
        "        self.res_block_1 = ResidualBlock(64, 128, kernel_size=3, stride=2)\n",
        "        self.res_block_2 = ResidualBlock(128, 256, kernel_size=3, stride=2)\n",
        "        self.res_block_3 = ResidualBlock(256, 512, kernel_size=3, stride=2)\n",
        "        # Pooling\n",
        "        self.avgpool = nn.AdaptiveAvgPool2d((1, 1))\n",
        "\n",
        "        # fc\n",
        "        self.fc = nn.Linear(512, num_classes)\n",
        "\n",
        "    def forward(self, x, return_embed=False):\n",
        "        \"\"\"\n",
        "        Forward path.\n",
        "\n",
        "        [input]\n",
        "        * x             : input data\n",
        "        * return_embed  : whether return the feature map of the last conv layer or not\n",
        "\n",
        "        [output]\n",
        "        * output        : output data\n",
        "        * embedding     : the feature map after the last conv layer (optional)\n",
        "\n",
        "        [hint]\n",
        "        * See the instruction PDF for network details\n",
        "        * You want to set return_embed to True if you are dealing with CAM\n",
        "        \"\"\"\n",
        "\n",
        "        # ----- TODO -----\n",
        "        # raise NotImplementedError\n",
        "        x = self.block(x)\n",
        "        x = self.res_block_1(x)\n",
        "        x = self.res_block_2(x)\n",
        "        x = self.res_block_3(x)\n",
        "\n",
        "\n",
        "        if return_embed:\n",
        "          embedding = x\n",
        "          x = self.avgpool(x)\n",
        "          x = torch.flatten(x, 1)\n",
        "          out = self.fc(x)\n",
        "          return out, embedding\n",
        "        else:\n",
        "          x = self.avgpool(x)\n",
        "          x = torch.flatten(x, 1)\n",
        "          out = self.fc(x)\n",
        "          return out\n",
        "def init_weights_kaiming(m):\n",
        "\n",
        "    \"\"\"\n",
        "    Kaming initialization.\n",
        "\n",
        "    [input]\n",
        "    * m : torch.nn.Module\n",
        "\n",
        "    [hint]\n",
        "    * Refer to the course slides/recitations for more details\n",
        "    * Initialize the bias term in linear layer by a small constant, e.g., 0.01\n",
        "    \"\"\"\n",
        "\n",
        "    if isinstance(m, nn.Conv2d):\n",
        "        # ----- TODO -----\n",
        "        # raise NotImplementedError\n",
        "        nn.init.kaiming_normal_(m.weight, nonlinearity='relu')\n",
        "\n",
        "\n",
        "    elif isinstance(m, nn.Linear):\n",
        "        # ----- TODO -----\n",
        "        # raise NotImplementedError\n",
        "        nn.init.kaiming_normal_(m.weight, nonlinearity='relu')\n",
        "        nn.init.constant_(m.bias, 0.01)\n",
        "\n",
        "if __name__ == \"__main__\":\n",
        "\n",
        "    # set model\n",
        "    net = MyResnet(in_channels=3, num_classes=10)\n",
        "    net.apply(init_weights_kaiming)\n",
        "\n",
        "    # sanity check\n",
        "    input = torch.randn((64, 3, 32, 32), requires_grad=True)\n",
        "\n",
        "    output = net(input)\n",
        "        # output = summary(net,input)\n",
        "\n",
        "    print(output.shape)\n",
        "    print(\"Expected output size:torch.Size([64, 10])\" )\n",
        "\n",
        "    #\n",
        "    # expected sizes:\n",
        "    # input\n",
        "    # (64, 3, 32, 32)\n",
        "    # first block:\n",
        "    # (64, 64, 32, 32)\n",
        "    # after first residual block:\n",
        "    # (64, 128, 16, 16)\n",
        "    # after second residual block:\n",
        "    # (64, 256, 8, 8)\n",
        "    # after third residual block\n",
        "    # (64, 512, 4, 4)\n",
        "    # after avg pooling:\n",
        "    # (64, 512, 1, 1)\n",
        "    # after flattening\n",
        "    # (64, 512)\n",
        "    # after fc\n",
        "    # (64, 10)\n"
      ]
    },
    {
      "cell_type": "code",
      "execution_count": 2,
      "metadata": {
        "colab": {
          "base_uri": "https://localhost:8080/",
          "height": 1000
        },
        "id": "vgspED-ugquv",
        "outputId": "c6645571-84e0-47d6-9f2c-a74a2bba8a4c"
      },
      "outputs": [
        {
          "output_type": "stream",
          "name": "stdout",
          "text": [
            "Downloading https://www.cs.toronto.edu/~kriz/cifar-10-python.tar.gz to ./data/cifar-10-python.tar.gz\n"
          ]
        },
        {
          "output_type": "stream",
          "name": "stderr",
          "text": [
            "100%|██████████| 170498071/170498071 [00:01<00:00, 86344401.81it/s]\n"
          ]
        },
        {
          "output_type": "stream",
          "name": "stdout",
          "text": [
            "Extracting ./data/cifar-10-python.tar.gz to ./data\n",
            "Files already downloaded and verified\n",
            "LOAD DATASET: TRAIN/VAL | 50000/10000\n"
          ]
        },
        {
          "output_type": "stream",
          "name": "stderr",
          "text": [
            "Epoch 1/30 - Training: 100%|██████████| 391/391 [00:48<00:00,  8.00it/s]\n",
            "Epoch 1/30 - Validation: 100%|██████████| 79/79 [00:03<00:00, 24.92it/s]\n"
          ]
        },
        {
          "output_type": "stream",
          "name": "stdout",
          "text": [
            "Epoch 1 - Train Loss: 1.3215, Train Accuracy: 0.5271, Val Loss: 1.0094, Val Accuracy: 0.6359\n"
          ]
        },
        {
          "output_type": "stream",
          "name": "stderr",
          "text": [
            "Epoch 2/30 - Training: 100%|██████████| 391/391 [00:47<00:00,  8.15it/s]\n",
            "Epoch 2/30 - Validation: 100%|██████████| 79/79 [00:03<00:00, 25.57it/s]\n"
          ]
        },
        {
          "output_type": "stream",
          "name": "stdout",
          "text": [
            "Epoch 2 - Train Loss: 0.9033, Train Accuracy: 0.6792, Val Loss: 0.8884, Val Accuracy: 0.6930\n"
          ]
        },
        {
          "output_type": "stream",
          "name": "stderr",
          "text": [
            "Epoch 3/30 - Training: 100%|██████████| 391/391 [00:47<00:00,  8.26it/s]\n",
            "Epoch 3/30 - Validation: 100%|██████████| 79/79 [00:03<00:00, 23.34it/s]\n"
          ]
        },
        {
          "output_type": "stream",
          "name": "stdout",
          "text": [
            "Epoch 3 - Train Loss: 0.7228, Train Accuracy: 0.7464, Val Loss: 0.7507, Val Accuracy: 0.7467\n"
          ]
        },
        {
          "output_type": "stream",
          "name": "stderr",
          "text": [
            "Epoch 4/30 - Training: 100%|██████████| 391/391 [00:48<00:00,  8.09it/s]\n",
            "Epoch 4/30 - Validation: 100%|██████████| 79/79 [00:03<00:00, 20.75it/s]\n"
          ]
        },
        {
          "output_type": "stream",
          "name": "stdout",
          "text": [
            "Epoch 4 - Train Loss: 0.6175, Train Accuracy: 0.7835, Val Loss: 0.7404, Val Accuracy: 0.7518\n"
          ]
        },
        {
          "output_type": "stream",
          "name": "stderr",
          "text": [
            "Epoch 5/30 - Training: 100%|██████████| 391/391 [00:48<00:00,  8.04it/s]\n",
            "Epoch 5/30 - Validation: 100%|██████████| 79/79 [00:03<00:00, 24.83it/s]\n"
          ]
        },
        {
          "output_type": "stream",
          "name": "stdout",
          "text": [
            "Epoch 5 - Train Loss: 0.5417, Train Accuracy: 0.8124, Val Loss: 0.6027, Val Accuracy: 0.7929\n"
          ]
        },
        {
          "output_type": "stream",
          "name": "stderr",
          "text": [
            "Epoch 6/30 - Training: 100%|██████████| 391/391 [00:48<00:00,  8.12it/s]\n",
            "Epoch 6/30 - Validation: 100%|██████████| 79/79 [00:03<00:00, 25.29it/s]\n"
          ]
        },
        {
          "output_type": "stream",
          "name": "stdout",
          "text": [
            "Epoch 6 - Train Loss: 0.4859, Train Accuracy: 0.8322, Val Loss: 0.5733, Val Accuracy: 0.8055\n"
          ]
        },
        {
          "output_type": "stream",
          "name": "stderr",
          "text": [
            "Epoch 7/30 - Training: 100%|██████████| 391/391 [00:48<00:00,  8.11it/s]\n",
            "Epoch 7/30 - Validation: 100%|██████████| 79/79 [00:03<00:00, 22.64it/s]\n"
          ]
        },
        {
          "output_type": "stream",
          "name": "stdout",
          "text": [
            "Epoch 7 - Train Loss: 0.4433, Train Accuracy: 0.8451, Val Loss: 0.5274, Val Accuracy: 0.8212\n"
          ]
        },
        {
          "output_type": "stream",
          "name": "stderr",
          "text": [
            "Epoch 8/30 - Training: 100%|██████████| 391/391 [00:48<00:00,  8.15it/s]\n",
            "Epoch 8/30 - Validation: 100%|██████████| 79/79 [00:03<00:00, 23.26it/s]\n"
          ]
        },
        {
          "output_type": "stream",
          "name": "stdout",
          "text": [
            "Epoch 8 - Train Loss: 0.4018, Train Accuracy: 0.8609, Val Loss: 0.5727, Val Accuracy: 0.8144\n"
          ]
        },
        {
          "output_type": "stream",
          "name": "stderr",
          "text": [
            "Epoch 9/30 - Training: 100%|██████████| 391/391 [00:47<00:00,  8.19it/s]\n",
            "Epoch 9/30 - Validation: 100%|██████████| 79/79 [00:03<00:00, 25.64it/s]\n"
          ]
        },
        {
          "output_type": "stream",
          "name": "stdout",
          "text": [
            "Epoch 9 - Train Loss: 0.3673, Train Accuracy: 0.8722, Val Loss: 0.5100, Val Accuracy: 0.8335\n"
          ]
        },
        {
          "output_type": "stream",
          "name": "stderr",
          "text": [
            "Epoch 10/30 - Training: 100%|██████████| 391/391 [00:47<00:00,  8.15it/s]\n",
            "Epoch 10/30 - Validation: 100%|██████████| 79/79 [00:03<00:00, 25.06it/s]\n"
          ]
        },
        {
          "output_type": "stream",
          "name": "stdout",
          "text": [
            "Epoch 10 - Train Loss: 0.3378, Train Accuracy: 0.8833, Val Loss: 0.5381, Val Accuracy: 0.8267\n"
          ]
        },
        {
          "output_type": "stream",
          "name": "stderr",
          "text": [
            "Epoch 11/30 - Training: 100%|██████████| 391/391 [00:47<00:00,  8.17it/s]\n",
            "Epoch 11/30 - Validation: 100%|██████████| 79/79 [00:03<00:00, 24.36it/s]\n"
          ]
        },
        {
          "output_type": "stream",
          "name": "stdout",
          "text": [
            "Epoch 11 - Train Loss: 0.2620, Train Accuracy: 0.9094, Val Loss: 0.4504, Val Accuracy: 0.8534\n"
          ]
        },
        {
          "output_type": "stream",
          "name": "stderr",
          "text": [
            "Epoch 12/30 - Training: 100%|██████████| 391/391 [00:47<00:00,  8.17it/s]\n",
            "Epoch 12/30 - Validation: 100%|██████████| 79/79 [00:03<00:00, 21.35it/s]\n"
          ]
        },
        {
          "output_type": "stream",
          "name": "stdout",
          "text": [
            "Epoch 12 - Train Loss: 0.2387, Train Accuracy: 0.9184, Val Loss: 0.4542, Val Accuracy: 0.8539\n"
          ]
        },
        {
          "output_type": "stream",
          "name": "stderr",
          "text": [
            "Epoch 13/30 - Training: 100%|██████████| 391/391 [00:48<00:00,  8.13it/s]\n",
            "Epoch 13/30 - Validation: 100%|██████████| 79/79 [00:03<00:00, 24.39it/s]\n"
          ]
        },
        {
          "output_type": "stream",
          "name": "stdout",
          "text": [
            "Epoch 13 - Train Loss: 0.2173, Train Accuracy: 0.9257, Val Loss: 0.4843, Val Accuracy: 0.8516\n"
          ]
        },
        {
          "output_type": "stream",
          "name": "stderr",
          "text": [
            "Epoch 14/30 - Training: 100%|██████████| 391/391 [00:48<00:00,  8.06it/s]\n",
            "Epoch 14/30 - Validation: 100%|██████████| 79/79 [00:03<00:00, 25.67it/s]\n"
          ]
        },
        {
          "output_type": "stream",
          "name": "stdout",
          "text": [
            "Epoch 14 - Train Loss: 0.2009, Train Accuracy: 0.9293, Val Loss: 0.4416, Val Accuracy: 0.8588\n"
          ]
        },
        {
          "output_type": "stream",
          "name": "stderr",
          "text": [
            "Epoch 15/30 - Training: 100%|██████████| 391/391 [00:47<00:00,  8.16it/s]\n",
            "Epoch 15/30 - Validation: 100%|██████████| 79/79 [00:03<00:00, 22.91it/s]\n"
          ]
        },
        {
          "output_type": "stream",
          "name": "stdout",
          "text": [
            "Epoch 15 - Train Loss: 0.1882, Train Accuracy: 0.9347, Val Loss: 0.4445, Val Accuracy: 0.8613\n"
          ]
        },
        {
          "output_type": "stream",
          "name": "stderr",
          "text": [
            "Epoch 16/30 - Training: 100%|██████████| 391/391 [00:47<00:00,  8.17it/s]\n",
            "Epoch 16/30 - Validation: 100%|██████████| 79/79 [00:03<00:00, 22.52it/s]\n"
          ]
        },
        {
          "output_type": "stream",
          "name": "stdout",
          "text": [
            "Epoch 16 - Train Loss: 0.1673, Train Accuracy: 0.9431, Val Loss: 0.4352, Val Accuracy: 0.8614\n"
          ]
        },
        {
          "output_type": "stream",
          "name": "stderr",
          "text": [
            "Epoch 17/30 - Training: 100%|██████████| 391/391 [00:47<00:00,  8.16it/s]\n",
            "Epoch 17/30 - Validation: 100%|██████████| 79/79 [00:03<00:00, 25.41it/s]\n"
          ]
        },
        {
          "output_type": "stream",
          "name": "stdout",
          "text": [
            "Epoch 17 - Train Loss: 0.1668, Train Accuracy: 0.9438, Val Loss: 0.4344, Val Accuracy: 0.8618\n"
          ]
        },
        {
          "output_type": "stream",
          "name": "stderr",
          "text": [
            "Epoch 18/30 - Training: 100%|██████████| 391/391 [00:47<00:00,  8.18it/s]\n",
            "Epoch 18/30 - Validation: 100%|██████████| 79/79 [00:03<00:00, 25.82it/s]\n"
          ]
        },
        {
          "output_type": "stream",
          "name": "stdout",
          "text": [
            "Epoch 18 - Train Loss: 0.1470, Train Accuracy: 0.9498, Val Loss: 0.4519, Val Accuracy: 0.8590\n"
          ]
        },
        {
          "output_type": "stream",
          "name": "stderr",
          "text": [
            "Epoch 19/30 - Training: 100%|██████████| 391/391 [00:47<00:00,  8.15it/s]\n",
            "Epoch 19/30 - Validation: 100%|██████████| 79/79 [00:03<00:00, 24.37it/s]\n"
          ]
        },
        {
          "output_type": "stream",
          "name": "stdout",
          "text": [
            "Epoch 19 - Train Loss: 0.1366, Train Accuracy: 0.9538, Val Loss: 0.4574, Val Accuracy: 0.8699\n"
          ]
        },
        {
          "output_type": "stream",
          "name": "stderr",
          "text": [
            "Epoch 20/30 - Training: 100%|██████████| 391/391 [00:47<00:00,  8.19it/s]\n",
            "Epoch 20/30 - Validation: 100%|██████████| 79/79 [00:03<00:00, 20.89it/s]\n"
          ]
        },
        {
          "output_type": "stream",
          "name": "stdout",
          "text": [
            "Epoch 20 - Train Loss: 0.1334, Train Accuracy: 0.9531, Val Loss: 0.4483, Val Accuracy: 0.8658\n"
          ]
        },
        {
          "output_type": "stream",
          "name": "stderr",
          "text": [
            "Epoch 21/30 - Training: 100%|██████████| 391/391 [00:48<00:00,  8.13it/s]\n",
            "Epoch 21/30 - Validation: 100%|██████████| 79/79 [00:03<00:00, 24.61it/s]\n"
          ]
        },
        {
          "output_type": "stream",
          "name": "stdout",
          "text": [
            "Epoch 21 - Train Loss: 0.0973, Train Accuracy: 0.9670, Val Loss: 0.4413, Val Accuracy: 0.8730\n"
          ]
        },
        {
          "output_type": "stream",
          "name": "stderr",
          "text": [
            "Epoch 22/30 - Training: 100%|██████████| 391/391 [00:48<00:00,  8.12it/s]\n",
            "Epoch 22/30 - Validation: 100%|██████████| 79/79 [00:03<00:00, 25.05it/s]\n"
          ]
        },
        {
          "output_type": "stream",
          "name": "stdout",
          "text": [
            "Epoch 22 - Train Loss: 0.0856, Train Accuracy: 0.9717, Val Loss: 0.4172, Val Accuracy: 0.8789\n"
          ]
        },
        {
          "output_type": "stream",
          "name": "stderr",
          "text": [
            "Epoch 23/30 - Training: 100%|██████████| 391/391 [00:47<00:00,  8.17it/s]\n",
            "Epoch 23/30 - Validation: 100%|██████████| 79/79 [00:03<00:00, 23.70it/s]\n"
          ]
        },
        {
          "output_type": "stream",
          "name": "stdout",
          "text": [
            "Epoch 23 - Train Loss: 0.0785, Train Accuracy: 0.9739, Val Loss: 0.4275, Val Accuracy: 0.8774\n"
          ]
        },
        {
          "output_type": "stream",
          "name": "stderr",
          "text": [
            "Epoch 24/30 - Training: 100%|██████████| 391/391 [00:48<00:00,  8.07it/s]\n",
            "Epoch 24/30 - Validation: 100%|██████████| 79/79 [00:03<00:00, 21.91it/s]\n"
          ]
        },
        {
          "output_type": "stream",
          "name": "stdout",
          "text": [
            "Epoch 24 - Train Loss: 0.0756, Train Accuracy: 0.9749, Val Loss: 0.4428, Val Accuracy: 0.8757\n"
          ]
        },
        {
          "output_type": "stream",
          "name": "stderr",
          "text": [
            "Epoch 25/30 - Training: 100%|██████████| 391/391 [00:48<00:00,  8.08it/s]\n",
            "Epoch 25/30 - Validation: 100%|██████████| 79/79 [00:03<00:00, 24.97it/s]\n"
          ]
        },
        {
          "output_type": "stream",
          "name": "stdout",
          "text": [
            "Epoch 25 - Train Loss: 0.0733, Train Accuracy: 0.9761, Val Loss: 0.4279, Val Accuracy: 0.8781\n"
          ]
        },
        {
          "output_type": "stream",
          "name": "stderr",
          "text": [
            "Epoch 26/30 - Training: 100%|██████████| 391/391 [00:48<00:00,  8.05it/s]\n",
            "Epoch 26/30 - Validation: 100%|██████████| 79/79 [00:03<00:00, 25.33it/s]\n"
          ]
        },
        {
          "output_type": "stream",
          "name": "stdout",
          "text": [
            "Epoch 26 - Train Loss: 0.0708, Train Accuracy: 0.9764, Val Loss: 0.4320, Val Accuracy: 0.8804\n"
          ]
        },
        {
          "output_type": "stream",
          "name": "stderr",
          "text": [
            "Epoch 27/30 - Training: 100%|██████████| 391/391 [00:48<00:00,  8.04it/s]\n",
            "Epoch 27/30 - Validation: 100%|██████████| 79/79 [00:03<00:00, 20.62it/s]\n"
          ]
        },
        {
          "output_type": "stream",
          "name": "stdout",
          "text": [
            "Epoch 27 - Train Loss: 0.0665, Train Accuracy: 0.9778, Val Loss: 0.4280, Val Accuracy: 0.8814\n"
          ]
        },
        {
          "output_type": "stream",
          "name": "stderr",
          "text": [
            "Epoch 28/30 - Training: 100%|██████████| 391/391 [00:48<00:00,  8.09it/s]\n",
            "Epoch 28/30 - Validation: 100%|██████████| 79/79 [00:03<00:00, 24.89it/s]\n"
          ]
        },
        {
          "output_type": "stream",
          "name": "stdout",
          "text": [
            "Epoch 28 - Train Loss: 0.0665, Train Accuracy: 0.9777, Val Loss: 0.4457, Val Accuracy: 0.8808\n"
          ]
        },
        {
          "output_type": "stream",
          "name": "stderr",
          "text": [
            "Epoch 29/30 - Training: 100%|██████████| 391/391 [00:48<00:00,  8.09it/s]\n",
            "Epoch 29/30 - Validation: 100%|██████████| 79/79 [00:03<00:00, 25.10it/s]\n"
          ]
        },
        {
          "output_type": "stream",
          "name": "stdout",
          "text": [
            "Epoch 29 - Train Loss: 0.0592, Train Accuracy: 0.9806, Val Loss: 0.4642, Val Accuracy: 0.8782\n"
          ]
        },
        {
          "output_type": "stream",
          "name": "stderr",
          "text": [
            "Epoch 30/30 - Training: 100%|██████████| 391/391 [00:48<00:00,  8.10it/s]\n",
            "Epoch 30/30 - Validation: 100%|██████████| 79/79 [00:03<00:00, 24.59it/s]\n"
          ]
        },
        {
          "output_type": "stream",
          "name": "stdout",
          "text": [
            "Epoch 30 - Train Loss: 0.0582, Train Accuracy: 0.9809, Val Loss: 0.4547, Val Accuracy: 0.8803\n",
            "Finished Training\n"
          ]
        },
        {
          "output_type": "display_data",
          "data": {
            "text/plain": [
              "<Figure size 640x480 with 1 Axes>"
            ],
            "image/png": "[encoded data removed]"
          },
          "metadata": {}
        }
      ],
      "source": [
        "import os\n",
        "import time\n",
        "import random\n",
        "import numpy as np\n",
        "from PIL import Image\n",
        "import matplotlib.pyplot as plt\n",
        "\n",
        "import torch\n",
        "import torchvision\n",
        "import torch.nn as nn\n",
        "import torch.optim as optim\n",
        "from torchvision import transforms\n",
        "from torch.utils.data import DataLoader, Dataset\n",
        "from tqdm import tqdm\n",
        "\n",
        "\n",
        "def setup_seed(seed):\n",
        "\n",
        "    random.seed(seed)\n",
        "    np.random.seed(seed)\n",
        "    torch.manual_seed(seed)\n",
        "    torch.cuda.manual_seed(seed)\n",
        "    torch.cuda.manual_seed_all(seed)\n",
        "    torch.backends.cudnn.deterministic = True\n",
        "    torch.backends.cudnn.benchmark = False\n",
        "\n",
        "\n",
        "\n",
        "\n",
        "\n",
        "\n",
        "# set param\n",
        "setup_seed(18786)\n",
        "batch_size = 128\n",
        "num_epoch = 30\n",
        "lr = 1e-3\n",
        "DEVICE = torch.device(\"cuda:0\" if torch.cuda.is_available() else \"cpu\")\n",
        "\n",
        "## Set model\n",
        "## Set the device to Cuda if needed\n",
        "## Initialize all the parameters\n",
        "# ----- TODO -----\n",
        "net = MyResnet(in_channels=3, num_classes=10)\n",
        "net.apply(init_weights_kaiming)\n",
        "net.to(DEVICE)\n",
        "\n",
        "\n",
        "## Create the criterion and optimizer\n",
        "# ----- TODO -----\n",
        "criterion = nn.CrossEntropyLoss()\n",
        "optimizer = optim.Adam(net.parameters(), lr=lr)\n",
        "scheduler = torch.optim.lr_scheduler.StepLR(optimizer, step_size=10, gamma=0.6)\n",
        "\n",
        "## Load dataset\n",
        "normalize_param = dict(\n",
        "    mean=[0.485, 0.456, 0.406],\n",
        "    std=[0.229, 0.224, 0.225]\n",
        "    )\n",
        "\n",
        "train_transform = transforms.Compose([\n",
        "    transforms.RandomResizedCrop(32, scale=(0.8, 1.0)),\n",
        "    transforms.RandomHorizontalFlip(), transforms.ToTensor(),\n",
        "    transforms.Normalize(**normalize_param,inplace=True)\n",
        "    ])\n",
        "\n",
        "val_transform = transforms.Compose([\n",
        "    transforms.ToTensor(),\n",
        "    transforms.Normalize(**normalize_param,inplace=True)\n",
        "    ])\n",
        "\n",
        "# ----- TODO -----\n",
        "trainset = torchvision.datasets.CIFAR10(root='./data', train=True, download=True, transform=train_transform)\n",
        "trainloader = DataLoader(trainset, batch_size=batch_size, shuffle=True)\n",
        "valset = torchvision.datasets.CIFAR10(root='./data', train=False, download=True, transform=val_transform)\n",
        "valloader = DataLoader(valset, batch_size=batch_size, shuffle=False)\n",
        "\n",
        "classes = ('plane', 'car', 'bird', 'cat',\n",
        "        'deer', 'dog', 'frog', 'horse', 'ship', 'truck')\n",
        "\n",
        "print(f\"LOAD DATASET: TRAIN/VAL | {len(trainset)}/{len(valset)}\")\n",
        "\n",
        "train_loss =[]\n",
        "val_loss = []\n",
        "train_acc = []\n",
        "val_acc = []\n",
        "\n",
        "\n",
        "\n",
        "\n",
        "## Training and evaluation\n",
        "## Feel free to record the loss and accuracy numbers\n",
        "## Hint: you could separate the training and evaluation\n",
        "## process into 2 different functions for each epoch\n",
        "for epoch in range(num_epoch):\n",
        "    # ----- TODO -----\n",
        "    net.train()\n",
        "    current_loss = 0\n",
        "    current_correct = 0\n",
        "    current_total = 0\n",
        "    for data_in, label in tqdm(trainloader, desc=f\"Epoch {epoch+1}/{num_epoch} - Training\"):\n",
        "        data_in, label  = data_in.to(DEVICE), label.to(DEVICE)\n",
        "        optimizer.zero_grad()\n",
        "        output = net(data_in)\n",
        "        loss = criterion(output,label)\n",
        "        loss.backward()\n",
        "        optimizer.step()\n",
        "\n",
        "        current_loss += loss.item()\n",
        "        _, max_idx =torch.max(output,1)\n",
        "        current_total += label.size(0)\n",
        "        current_correct +=(max_idx ==label).sum().item()\n",
        "    train_acc.append(current_correct/current_total)\n",
        "    train_loss.append(current_loss/len(trainloader))\n",
        "\n",
        "\n",
        "    net.eval()\n",
        "    current_loss = 0\n",
        "    current_correct = 0\n",
        "    current_total = 0\n",
        "    with torch.no_grad():\n",
        "        for data_in, label in tqdm(valloader, desc=f\"Epoch {epoch+1}/{num_epoch} - Validation\"):\n",
        "            data_in, label  = data_in.to(DEVICE), label.to(DEVICE)\n",
        "            out = net(data_in)\n",
        "            loss = criterion(out, label)\n",
        "            current_loss += loss.item()\n",
        "            max_val, max_index = torch.max(out.data,1)\n",
        "            current_total += label.size(0)\n",
        "            current_correct +=(max_index == label).sum().item()\n",
        "    val_acc.append(current_correct/current_total)\n",
        "    val_loss.append(current_loss / len(valloader))\n",
        "    print(f\"Epoch {epoch+1} - Train Loss: {train_loss[-1]:.4f}, Train Accuracy: {train_acc[-1]:.4f}, Val Loss: {val_loss[-1]:.4f}, Val Accuracy: {val_acc[-1]:.4f}\")\n",
        "\n",
        "    scheduler.step()\n",
        "\n",
        "print('Finished Training')\n",
        "\n",
        "## Visualization\n",
        "## Plot the loss and acc curves\n",
        "# ----- TODO -----\n",
        "plt.plot(train_loss, label='Training Loss')\n",
        "plt.plot(val_loss, label='Validation Loss')\n",
        "plt.title('Training and Validation Loss')\n",
        "plt.xlabel('Epoch')\n",
        "plt.ylabel('Loss')\n",
        "plt.legend()\n",
        "plt.title(\"Training and Validation Loss across Epochs\")\n",
        "plt.savefig(\"loss_plot_del1-2.png\")\n",
        "plt.clf()\n",
        "plt.plot(train_acc, label='Training Accuracy')\n",
        "plt.plot(val_acc, label='Validation Accuracy')\n",
        "plt.title('Training and Validation Accuracy')\n",
        "plt.xlabel('Epoch')\n",
        "plt.ylabel('Accuracy')\n",
        "plt.legend()\n",
        "plt.title(\"Training and Validation Accuracy across Epochs\")\n",
        "plt.savefig(\"accuracy_plot_del1-2.png\")  # Save the plot as a PNG file\n",
        "\n",
        "# def cam(net, inputs, labels, idx):\n",
        "\n",
        "#     \"\"\"\n",
        "#     Calculate the CAM.\n",
        "\n",
        "#     [input]\n",
        "#     * net     : network\n",
        "#     * inputs  : input data\n",
        "#     * labels  : label data\n",
        "#     * idx     : the index of the chosen image in a minibatch, range: [0, batch_size-1]\n",
        "\n",
        "#     [output]\n",
        "#     * cam_img : CAM result\n",
        "#     * img     : raw image\n",
        "\n",
        "#     [hint]\n",
        "#     * Inputs and labels are in a minibatch form\n",
        "#     * You can choose one images from them for CAM by idx.\n",
        "#     \"\"\"\n",
        "\n",
        "#     net.eval()\n",
        "#     DEVICE = torch.device(\"cuda:0\" if torch.cuda.is_available() else \"cpu\")\n",
        "#     with torch.no_grad():\n",
        "\n",
        "#         inputs = inputs.to(DEVICE)\n",
        "#         labels = labels.to(DEVICE)\n",
        "\n",
        "#         outputs, feat_map = net(inputs, return_embedding=True)\n",
        "\n",
        "#         ## Find the class with highest probability\n",
        "#         ## Obtain the weight related to that class\n",
        "#         # ----- TODO -----\n",
        "#         params = list(net.parameters())\n",
        "#         print(params)\n",
        "#         break\n",
        "#         ## Calculate the CAM\n",
        "#         ## Hint: you can choose one of the image (idx) from the batch for the following process\n",
        "#         # ----- TODO -----\n",
        "#         cam = None\n",
        "#         cam = cam.detach().cpu().numpy()\n",
        "\n",
        "\n",
        "#         ## Normalize CAM\n",
        "#         ## Hint: Just minmax norm and rescale every value between [0-1]\n",
        "#         ## You will want to resize the CAM result for a better visualization\n",
        "#         ## e.g., the size of the raw image.\n",
        "#         # ----- TODO -----\n",
        "#         cam_img = None\n",
        "\n",
        "\n",
        "#         ## Denormalize raw images\n",
        "#         ## Hint: reverse the transform we did before\n",
        "#         ## Change the image data type into uint8 for visualization\n",
        "#         # ----- TODO -----\n",
        "#         img = inputs[idx].permute(1,2,0).detach().cpu().numpy()\n",
        "#         img = None\n",
        "\n",
        "#         return cam_img, img\n",
        "\n",
        "# ## Fetch the test image for CAM finish this later\n",
        "# dataiter = iter(valloader)\n",
        "# inputs, labels = next(dataiter)\n",
        "# cam_img, img = cam(net, inputs, labels, idx=0) # idx could be changed\n",
        "\n",
        "\n",
        "# ## Plot the CAM resuls as well as raw images\n",
        "# ## Hint: You will want to resize the CAM result.\n",
        "# # ----- TODO -----\n",
        "\n",
        "\n"
      ]
    },
    {
      "cell_type": "code",
      "execution_count": 3,
      "metadata": {
        "id": "sMGWPslGnaXf"
      },
      "outputs": [],
      "source": [
        "def visualize_cam(cam_img, img,name):\n",
        "    plt.figure(figsize=(15, 5))\n",
        "    plt.subplot(1, 3, 1)\n",
        "    plt.imshow(img)\n",
        "    plt.title(\"Original Image\")\n",
        "\n",
        "    plt.subplot(1, 3, 2)\n",
        "    plt.imshow(cam_img, cmap='jet', alpha=0.5)\n",
        "    plt.title(\"CAM Image\")\n",
        "\n",
        "    plt.subplot(1, 3, 3)\n",
        "    plt.imshow(img)\n",
        "    plt.imshow(cam_img, cmap='jet', alpha=0.5)  # Overlay the CAM on the image\n",
        "    plt.title(\"CAM Blended\")\n",
        "    plt.savefig(f'{name}.png')\n",
        "    plt.close()  # Close the figure to prevent it from displaying in the output\n",
        "\n",
        "    plt.show()\n",
        "\n",
        "\n",
        "def cam(net, inputs, labels, idx):\n",
        "\n",
        "    \"\"\"\n",
        "    Calculate the CAM.\n",
        "\n",
        "    [input]\n",
        "    * net     : network\n",
        "    * inputs  : input data\n",
        "    * labels  : label data\n",
        "    * idx     : the index of the chosen image in a minibatch, range: [0, batch_size-1]\n",
        "\n",
        "    [output]\n",
        "    * cam_img : CAM result\n",
        "    * img     : raw image\n",
        "\n",
        "    [hint]\n",
        "    * Inputs and labels are in a minibatch form\n",
        "    * You can choose one images from them for CAM by idx.\n",
        "    \"\"\"\n",
        "\n",
        "    net.eval()\n",
        "    DEVICE = torch.device(\"cuda:0\" if torch.cuda.is_available() else \"cpu\")\n",
        "    with torch.no_grad():\n",
        "\n",
        "        inputs = inputs.to(DEVICE)\n",
        "        labels = labels.to(DEVICE)\n",
        "\n",
        "        outputs, feature_maps = net(inputs, return_embed=True)\n",
        "        feature_map = feature_maps[idx]\n",
        "\n",
        "        ## Find the class with highest probability\n",
        "        ## Obtain the weight related to that class\n",
        "        # ----- TODO -----\n",
        "        _, predicted_classes = torch.max(outputs, 1)\n",
        "        idx_class = predicted_classes[idx].item()\n",
        "\n",
        "        weights_class = net.fc.weight.data[idx_class]\n",
        "        # print(weights_class.shape) # 512\n",
        "        # print(feature_map.shape) [512, 4, 4]\n",
        "        ## Calculate the CAM\n",
        "        ## Hint: you can choose one of the image (idx) from the batch for the following process\n",
        "        # ----- TODO -----\n",
        "        num_features = feature_map.shape[0]\n",
        "        weights_reshaped = weights_class.view(num_features, 1, 1)\n",
        "        # calculate weighted sum of of feature maps with the target class weights\n",
        "        weighted_feature_maps = weights_reshaped * feature_map # 512, 4, 4\n",
        "        cam = weighted_feature_maps.sum(dim=0) # 4 x 4\n",
        "\n",
        "        # ## Calculate the CAM\n",
        "        # ## Hint: you can choose one of the image (idx) from the batch for the following process\n",
        "        # # ----- TODO -----\n",
        "        # cam = None\n",
        "        # cam = cam.detach().cpu().numpy()\n",
        "\n",
        "\n",
        "        # ## Normalize CAM\n",
        "        # ## Hint: Just minmax norm and rescale every value between [0-1]\n",
        "        # ## You will want to resize the CAM result for a better visualization\n",
        "        # ## e.g., the size of the raw image.\n",
        "        # # ----- TODO -----\n",
        "        # cam_img = None\n",
        "        cam = cam - cam.min()\n",
        "        cam = cam / cam.max()\n",
        "        cam = cam.unsqueeze(0).unsqueeze(0)  # Add batch and channel dimension\n",
        "        cam_img = torch.nn.functional.interpolate(cam, size=(inputs.shape[2], inputs.shape[3]), mode='bilinear', align_corners=False)\n",
        "        cam_img = cam_img.squeeze().cpu().numpy()\n",
        "\n",
        "        # ## Denormalize raw images\n",
        "        # ## Hint: reverse the transform we did before\n",
        "        # ## Change the image data type into uint8 for visualization\n",
        "        # # ----- TODO -----\n",
        "        # img = inputs[idx].permute(1,2,0).detach().cpu().numpy()\n",
        "        # img = None\n",
        "        img = inputs[idx].cpu().numpy()\n",
        "        img = np.transpose(img, (1, 2, 0))\n",
        "\n",
        "        img = img * np.array(normalize_param['std']) + np.array(normalize_param['mean'])\n",
        "        img = np.clip(img, 0, 1)\n",
        "        return cam_img, img\n",
        "\n",
        "## Fetch the test image for CAM finish this later\n",
        "cam_img_lst = []\n",
        "img_lst = []\n",
        "for i in range(100):\n",
        "  dataiter = iter(valloader)\n",
        "  inputs, labels = next(dataiter)\n",
        "  cam_img, img = cam(net, inputs, labels, idx=i) # idx could be changed\n",
        "  cam_img_lst.append(cam_img)\n",
        "  img_lst.append(img)\n",
        "  visualize_cam(cam_img, img,i)\n",
        "\n",
        "\n",
        "\n",
        "## Plot the CAM resuls as well as raw images\n",
        "## Hint: You will want to resize the CAM result.\n",
        "# ----- TODO -----\n"
      ]
    },
    {
      "cell_type": "code",
      "execution_count": null,
      "metadata": {
        "id": "PPkaW9yO1bEh"
      },
      "outputs": [],
      "source": []
    },
    {
      "cell_type": "code",
      "execution_count": null,
      "metadata": {
        "id": "jmRWp93z-Afl"
      },
      "outputs": [],
      "source": []
    }
  ],
  "metadata": {
    "accelerator": "GPU",
    "colab": {
      "gpuType": "T4",
      "provenance": []
    },
    "kernelspec": {
      "display_name": "Python 3",
      "name": "python3"
    },
    "language_info": {
      "name": "python"
    }
  },
  "nbformat": 4,
  "nbformat_minor": 0
}